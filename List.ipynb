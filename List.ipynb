{
 "cells": [
  {
   "attachments": {},
   "cell_type": "markdown",
   "metadata": {},
   "source": [
    "# ***Kiểu dữ liệu List trong Python***\n",
    "***"
   ]
  },
  {
   "attachments": {},
   "cell_type": "markdown",
   "metadata": {},
   "source": [
    "### **Giới Thiệu:**"
   ]
  },
  {
   "attachments": {},
   "cell_type": "markdown",
   "metadata": {},
   "source": [
    "##### *Khi làm việc với Python, chúng ra rất hiếm khi nghe thấy kiểu dữ liệu Array như trong C.*\n",
    "##### *Vì thật ra Python không có kiểu dữ liệu Array :D, mà nó có 1 thằng em cùng cha khác ông nội với Array tên là \"List\". Vậy List với Array có gì khác nhau? Ta sẽ đi tìm hiểu vấn đề đó ở bài này.*"
   ]
  },
  {
   "attachments": {},
   "cell_type": "markdown",
   "metadata": {},
   "source": [
    "***\n",
    "### **Khởi tạo:**"
   ]
  },
  {
   "cell_type": "code",
   "execution_count": 6,
   "metadata": {},
   "outputs": [
    {
     "name": "stdout",
     "output_type": "stream",
     "text": [
      "<class 'list'>\n"
     ]
    }
   ],
   "source": [
    "LS = []\n",
    "print(type(LS)) # Xuất kiểu dữ liệu của LS ra màn hình"
   ]
  },
  {
   "attachments": {},
   "cell_type": "markdown",
   "metadata": {},
   "source": [
    "##### *Tạo 1 kiểu dữ liệu List với tên là LS. Ta có thể thấy kiểu dữ liệu được xuất ra màn hình là **list**.*"
   ]
  },
  {
   "attachments": {},
   "cell_type": "markdown",
   "metadata": {},
   "source": [
    "***\n",
    "### **Nhập giá trị:**"
   ]
  },
  {
   "cell_type": "code",
   "execution_count": 7,
   "metadata": {},
   "outputs": [],
   "source": [
    "LS = [\"value 1\", \"value 2\", \"value 3\"]"
   ]
  },
  {
   "attachments": {},
   "cell_type": "markdown",
   "metadata": {},
   "source": [
    "##### *Ở trên, ta đã dùng cách thủ công để thêm giá trị vào trong 1 List, các giá trị có thể là kiểu số nguyên (`int`), kiểu số thực (`float`), kiểu logic (`boolean`), kiểu chuỗi (`str`).*"
   ]
  },
  {
   "attachments": {},
   "cell_type": "markdown",
   "metadata": {},
   "source": [
    "##### **Đặc biệt:** *trong ngôn ngữ C, Array chỉ có thể chứa các phần tử cùng 1 kiểu dữ liệu. Thì ở Python, List có thể chứa các phần tử với những kiểu dữ liệu khác nhau.*\n",
    "Ví dụ:\n"
   ]
  },
  {
   "cell_type": "code",
   "execution_count": 11,
   "metadata": {},
   "outputs": [],
   "source": [
    "LS = [1, \"value 2\", True, False, 5.0]"
   ]
  },
  {
   "attachments": {},
   "cell_type": "markdown",
   "metadata": {},
   "source": [
    "***\n",
    "### **Đọc phần tử:**"
   ]
  },
  {
   "cell_type": "code",
   "execution_count": 13,
   "metadata": {},
   "outputs": [
    {
     "name": "stdout",
     "output_type": "stream",
     "text": [
      "[1, 2, 3, 4]\n"
     ]
    }
   ],
   "source": [
    "LS = [1,2,3,4]\n",
    "print(LS)"
   ]
  },
  {
   "attachments": {},
   "cell_type": "markdown",
   "metadata": {},
   "source": [
    "##### *Trong Python, khi ta muốn xem tất cả các phần tử của 1 List, ta chỉ cần sử dụng câu lệnh:*  \n",
    ">`print(`<Tên List>`)`\n",
    "*Chương trình sẽ xuất ra màn hình theo dạng* `[`value1`,`value2`,`...`]` "
   ]
  },
  {
   "attachments": {},
   "cell_type": "markdown",
   "metadata": {},
   "source": [
    "***\n",
    "### **Thêm phần tử:**"
   ]
  },
  {
   "attachments": {},
   "cell_type": "markdown",
   "metadata": {},
   "source": [
    "##### ***Trong List ta cũng có 2 cách để thêm phần tử như trong Array:***\n",
    "* **Insert** (Thêm vào vị trí đầu tiên hoặc giữa List)\n",
    "* **Append** (Thêm vào sau cùng List)"
   ]
  },
  {
   "attachments": {},
   "cell_type": "markdown",
   "metadata": {},
   "source": [
    "##### *Cấu trúc của hàm* `Insert` : \n",
    "> \\<Tên List\\>`.insert(`\\<index\\>`,` \\<value\\>`)`"
   ]
  },
  {
   "cell_type": "code",
   "execution_count": 38,
   "metadata": {},
   "outputs": [
    {
     "name": "stdout",
     "output_type": "stream",
     "text": [
      "List sau khi chạy câu lệnh: [1, 2, 3, 4, 5]\n"
     ]
    }
   ],
   "source": [
    "LS = [1,2,4,5]\n",
    "\n",
    "LS.insert(2,3)  # Thêm 3 vào nơi có index là 2\n",
    "print(\"List sau khi chạy câu lệnh:\", LS)"
   ]
  },
  {
   "attachments": {},
   "cell_type": "markdown",
   "metadata": {},
   "source": [
    "##### *Cấu trúc của hàm* `Append` : \n",
    "> \\<Tên List\\>`.append(`\\<value\\>`)`"
   ]
  },
  {
   "cell_type": "code",
   "execution_count": 27,
   "metadata": {},
   "outputs": [
    {
     "name": "stdout",
     "output_type": "stream",
     "text": [
      "[1, 2, 3, 4, 5, 6]\n"
     ]
    }
   ],
   "source": [
    "LS.append(6) #Thêm 6 vào cuối List\n",
    "print(LS)"
   ]
  },
  {
   "attachments": {},
   "cell_type": "markdown",
   "metadata": {},
   "source": [
    "***\n",
    "### **Xóa phần tử:**"
   ]
  },
  {
   "attachments": {},
   "cell_type": "markdown",
   "metadata": {},
   "source": [
    "##### ***Trong List ta có 2 cách để xóa:***\n",
    "* **Remove** (Tìm và xóa phần tử theo giá trị được truyền vào)\n",
    "* **Pop, Del** (Tìm và xóa phần tử theo chỉ mục)"
   ]
  },
  {
   "attachments": {},
   "cell_type": "markdown",
   "metadata": {},
   "source": [
    "##### *Cấu trúc của hàm* `Remove` : \n",
    "> \\<Tên List\\>`.remove(`\\<value\\>`)`"
   ]
  },
  {
   "cell_type": "code",
   "execution_count": 40,
   "metadata": {},
   "outputs": [
    {
     "name": "stdout",
     "output_type": "stream",
     "text": [
      "List sau khi chạy câu lệnh: ['red', 'blue']\n"
     ]
    }
   ],
   "source": [
    "LS = [\"red\", \"green\", \"blue\"]\n",
    "LS.remove(\"green\")\n",
    "print(\"List sau khi chạy câu lệnh:\", LS)"
   ]
  },
  {
   "attachments": {},
   "cell_type": "markdown",
   "metadata": {},
   "source": [
    "##### *Cấu trúc của hàm* `Pop` : \n",
    "> \\<Tên List\\>`.pop(`\\<index\\>`)`\n",
    "##### **Lưu ý:** *Nếu ta không truyền vào hàm 1 index nào cả, hàm sẽ mặc định xóa vị trí đầu của List (index = 0)*."
   ]
  },
  {
   "cell_type": "code",
   "execution_count": 42,
   "metadata": {},
   "outputs": [
    {
     "name": "stdout",
     "output_type": "stream",
     "text": [
      "Giá trị tại nơi xóa: green\n",
      "List sau khi chạy câu lệnh: ['red', 'blue']\n"
     ]
    }
   ],
   "source": [
    "LS = [\"red\", \"green\", \"blue\"]\n",
    "valPop = LS.pop(1)\n",
    "print(\"Giá trị tại nơi xóa:\", valPop)\n",
    "print(\"List sau khi chạy câu lệnh:\", LS)"
   ]
  },
  {
   "attachments": {},
   "cell_type": "markdown",
   "metadata": {},
   "source": [
    "##### *Cấu trúc của hàm* `Del` : \n",
    "> `del` \\<Tên List\\>`[`\\<index\\>`]`"
   ]
  },
  {
   "cell_type": "code",
   "execution_count": 43,
   "metadata": {},
   "outputs": [
    {
     "name": "stdout",
     "output_type": "stream",
     "text": [
      "List sau khi chạy câu lệnh: ['red', 'green']\n"
     ]
    }
   ],
   "source": [
    "LS = [\"red\", \"green\", \"blue\"]\n",
    "del LS[2]\n",
    "print(\"List sau khi chạy câu lệnh:\", LS)"
   ]
  },
  {
   "attachments": {},
   "cell_type": "markdown",
   "metadata": {},
   "source": [
    "***\n",
    "### **Tìm phần tử:**"
   ]
  }
 ],
 "metadata": {
  "kernelspec": {
   "display_name": "Python 3",
   "language": "python",
   "name": "python3"
  },
  "language_info": {
   "codemirror_mode": {
    "name": "ipython",
    "version": 3
   },
   "file_extension": ".py",
   "mimetype": "text/x-python",
   "name": "python",
   "nbconvert_exporter": "python",
   "pygments_lexer": "ipython3",
   "version": "3.10.2"
  },
  "orig_nbformat": 4
 },
 "nbformat": 4,
 "nbformat_minor": 2
}
